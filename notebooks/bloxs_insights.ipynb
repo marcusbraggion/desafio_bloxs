{
 "cells": [
  {
   "cell_type": "markdown",
   "id": "1e6d7836",
   "metadata": {},
   "source": [
    "# 0.0 IMPORTS"
   ]
  },
  {
   "cell_type": "code",
   "execution_count": 76,
   "id": "f781b6cb",
   "metadata": {
    "ExecuteTime": {
     "end_time": "2022-07-07T01:44:09.140229Z",
     "start_time": "2022-07-07T01:44:09.132220Z"
    }
   },
   "outputs": [],
   "source": [
    "import psycopg2 as pg\n",
    "import pandas as pd\n",
    "import pandas.io.sql as psql\n",
    "import seaborn as sns\n",
    "import numpy as np"
   ]
  },
  {
   "cell_type": "markdown",
   "id": "bbd9cf32",
   "metadata": {},
   "source": [
    "## 0.1 PROCESSING TABLE FILES"
   ]
  },
  {
   "cell_type": "code",
   "execution_count": 6,
   "id": "c6ab9f12",
   "metadata": {
    "ExecuteTime": {
     "end_time": "2022-07-03T12:58:40.588244Z",
     "start_time": "2022-07-03T12:58:40.414800Z"
    }
   },
   "outputs": [],
   "source": [
    "df1 = pd.read_csv('dump_mysql/tbCountry.csv')\n",
    "df1.to_csv('dump_mysql/tbCountry_processed.csv', index=False)\n",
    "\n",
    "df2 = pd.read_csv('dump_mysql/tbInvestment.csv')\n",
    "df2.to_csv('dump_mysql/tbInvestment_processed.csv', index=False)\n",
    "\n",
    "df3 = pd.read_csv('dump_mysql/tbInvestor.csv')\n",
    "df3.to_csv('dump_mysql/tbInvestor_processed.csv', index=False)\n",
    "\n",
    "df4 = pd.read_csv('dump_mysql/tbInvestorAddress.csv')\n",
    "df4.to_csv('dump_mysql/tbInvestorAddress_processed.csv', index=False)\n",
    "\n",
    "df5 = pd.read_csv('dump_mysql/tbInvestorCompany.csv')\n",
    "df5.to_csv('dump_mysql/tbInvestorCompany_processed.csv', index=False)\n",
    "\n",
    "df6 = pd.read_csv('dump_mysql/tbInvestorWork.csv')\n",
    "df6.to_csv('dump_mysql/tbInvestorWork_processed.csv', index=False)\n",
    "\n",
    "df7 = pd.read_csv('dump_mysql/tbInvestorProject.csv')\n",
    "df7.to_csv('dump_mysql/tbInvestorProject_processed.csv', index=False)\n",
    "\n",
    "df8 = pd.read_csv('dump_mysql/tbInvestorProjectCategory.csv')\n",
    "df8.to_csv('dump_mysql/tbInvestorProjectCategory_processed.csv', index=False)"
   ]
  },
  {
   "cell_type": "markdown",
   "id": "554ca94b",
   "metadata": {},
   "source": [
    "## 0.2 Data Collect & Data Loading"
   ]
  },
  {
   "cell_type": "code",
   "execution_count": 2,
   "id": "eed00dde",
   "metadata": {
    "ExecuteTime": {
     "end_time": "2022-07-07T01:19:52.621040Z",
     "start_time": "2022-07-07T01:19:52.613032Z"
    }
   },
   "outputs": [],
   "source": [
    "# credentials\n",
    "host='ec2-3-229-252-6.compute-1.amazonaws.com'\n",
    "db='defli5ko5i9jns'\n",
    "port=5432\n",
    "username='bxyxdyaksdwclm'\n",
    "pwd='948dec09f999623e38b0baba146edc7ae0d53152ffa60db354523fcd3c1504bd'"
   ]
  },
  {
   "cell_type": "code",
   "execution_count": 3,
   "id": "b4262c46",
   "metadata": {
    "ExecuteTime": {
     "end_time": "2022-07-07T01:19:54.852709Z",
     "start_time": "2022-07-07T01:19:53.563575Z"
    }
   },
   "outputs": [],
   "source": [
    "conn = pg.connect(host=host,\n",
    "                 database=db,\n",
    "                 port=port,\n",
    "                 user=username,\n",
    "                 password=pwd)"
   ]
  },
  {
   "cell_type": "code",
   "execution_count": 4,
   "id": "a3af67de",
   "metadata": {
    "ExecuteTime": {
     "end_time": "2022-07-07T01:20:31.134109Z",
     "start_time": "2022-07-07T01:19:55.912664Z"
    }
   },
   "outputs": [],
   "source": [
    "conn.cursor()\n",
    "\n",
    "cursor = conn.cursor()\n",
    "\n",
    "query = \"\"\"SELECT * FROM dw.investor tbInvestor\n",
    "LEFT JOIN dw.investor_work tbInvestorWork ON tbinvestor.id = tbInvestorWork.investor\n",
    "LEFT JOIN dw.investor_address tbInvestorAddress  ON tbInvestor.id = tbInvestorAddress.investor\n",
    "left join dw.investor_company tbInvestorCompany ON tbInvestor.id = tbInvestorCompany.investor\n",
    "LEFT JOIN dw.investment tbInvestment ON tbInvestor.id = tbInvestment.investor\n",
    "LEFT JOIN dw.country tbCountry ON tbInvestorAddress.country = tbCountry.id\n",
    "left join dw.project tbProject ON tbInvestment.project = tbProject.id\n",
    "left join dw.project_category tbProjectCategory ON tbProject.project_category = tbProjectCategory.id\"\"\"\n",
    "\n",
    "df_raw = psql.read_sql(query, conn)\n",
    "print(df_raw.head(5))\n",
    "\n",
    "cursor.close()\n",
    "conn.close()"
   ]
  },
  {
   "cell_type": "markdown",
   "id": "cfa7e125",
   "metadata": {},
   "source": [
    "# 1.0 DESCRIÇÃO DOS DADOS"
   ]
  },
  {
   "cell_type": "code",
   "execution_count": 65,
   "id": "50917d16",
   "metadata": {
    "ExecuteTime": {
     "end_time": "2022-07-07T01:42:35.414702Z",
     "start_time": "2022-07-07T01:42:35.358659Z"
    },
    "scrolled": true
   },
   "outputs": [
    {
     "data": {
      "text/html": [
       "<div>\n",
       "<style scoped>\n",
       "    .dataframe tbody tr th:only-of-type {\n",
       "        vertical-align: middle;\n",
       "    }\n",
       "\n",
       "    .dataframe tbody tr th {\n",
       "        vertical-align: top;\n",
       "    }\n",
       "\n",
       "    .dataframe thead th {\n",
       "        text-align: right;\n",
       "    }\n",
       "</style>\n",
       "<table border=\"1\" class=\"dataframe\">\n",
       "  <thead>\n",
       "    <tr style=\"text-align: right;\">\n",
       "      <th></th>\n",
       "      <th>id_</th>\n",
       "      <th>date_created</th>\n",
       "      <th>birth</th>\n",
       "      <th>marital_status</th>\n",
       "      <th>gender</th>\n",
       "      <th>investor_type</th>\n",
       "      <th>nationality</th>\n",
       "      <th>channel</th>\n",
       "      <th>id_investor</th>\n",
       "      <th>date_created_investor</th>\n",
       "      <th>...</th>\n",
       "      <th>validity</th>\n",
       "      <th>value</th>\n",
       "      <th>project_category</th>\n",
       "      <th>closed</th>\n",
       "      <th>date_open</th>\n",
       "      <th>modality</th>\n",
       "      <th>target</th>\n",
       "      <th>id_project_category</th>\n",
       "      <th>date_created</th>\n",
       "      <th>type_project</th>\n",
       "    </tr>\n",
       "  </thead>\n",
       "  <tbody>\n",
       "    <tr>\n",
       "      <th>0</th>\n",
       "      <td>3</td>\n",
       "      <td>2018-08-23</td>\n",
       "      <td>1982-08-11</td>\n",
       "      <td>Casado(a)</td>\n",
       "      <td>1.0</td>\n",
       "      <td>pf</td>\n",
       "      <td>brazilian_born</td>\n",
       "      <td>None</td>\n",
       "      <td>3603</td>\n",
       "      <td>2021-01-08</td>\n",
       "      <td>...</td>\n",
       "      <td>2018-10-31</td>\n",
       "      <td>750000.0</td>\n",
       "      <td>1</td>\n",
       "      <td>2018-11-01</td>\n",
       "      <td>2018-10-01</td>\n",
       "      <td>1</td>\n",
       "      <td>500000.0</td>\n",
       "      <td>1</td>\n",
       "      <td>None</td>\n",
       "      <td>Imobiliária</td>\n",
       "    </tr>\n",
       "    <tr>\n",
       "      <th>1</th>\n",
       "      <td>16</td>\n",
       "      <td>2018-09-03</td>\n",
       "      <td>1973-05-04</td>\n",
       "      <td>Casado(a)</td>\n",
       "      <td>1.0</td>\n",
       "      <td>pf</td>\n",
       "      <td>brazilian_born</td>\n",
       "      <td>None</td>\n",
       "      <td>12</td>\n",
       "      <td>2018-09-03</td>\n",
       "      <td>...</td>\n",
       "      <td>2018-10-31</td>\n",
       "      <td>750000.0</td>\n",
       "      <td>1</td>\n",
       "      <td>2018-11-01</td>\n",
       "      <td>2018-10-01</td>\n",
       "      <td>1</td>\n",
       "      <td>500000.0</td>\n",
       "      <td>1</td>\n",
       "      <td>None</td>\n",
       "      <td>Imobiliária</td>\n",
       "    </tr>\n",
       "    <tr>\n",
       "      <th>2</th>\n",
       "      <td>6</td>\n",
       "      <td>2018-08-26</td>\n",
       "      <td>1985-07-04</td>\n",
       "      <td>Solteiro(a)</td>\n",
       "      <td>1.0</td>\n",
       "      <td>pf</td>\n",
       "      <td>brazilian_born</td>\n",
       "      <td>None</td>\n",
       "      <td>3591</td>\n",
       "      <td>2021-01-06</td>\n",
       "      <td>...</td>\n",
       "      <td>2018-10-31</td>\n",
       "      <td>750000.0</td>\n",
       "      <td>1</td>\n",
       "      <td>2018-11-01</td>\n",
       "      <td>2018-10-01</td>\n",
       "      <td>1</td>\n",
       "      <td>500000.0</td>\n",
       "      <td>1</td>\n",
       "      <td>None</td>\n",
       "      <td>Imobiliária</td>\n",
       "    </tr>\n",
       "    <tr>\n",
       "      <th>3</th>\n",
       "      <td>11</td>\n",
       "      <td>2018-08-27</td>\n",
       "      <td>1982-07-01</td>\n",
       "      <td>Casado(a)</td>\n",
       "      <td>1.0</td>\n",
       "      <td>pf</td>\n",
       "      <td>brazilian_born</td>\n",
       "      <td>None</td>\n",
       "      <td>2969</td>\n",
       "      <td>2020-11-12</td>\n",
       "      <td>...</td>\n",
       "      <td>2018-10-31</td>\n",
       "      <td>750000.0</td>\n",
       "      <td>1</td>\n",
       "      <td>2018-11-01</td>\n",
       "      <td>2018-10-01</td>\n",
       "      <td>1</td>\n",
       "      <td>500000.0</td>\n",
       "      <td>1</td>\n",
       "      <td>None</td>\n",
       "      <td>Imobiliária</td>\n",
       "    </tr>\n",
       "    <tr>\n",
       "      <th>4</th>\n",
       "      <td>34</td>\n",
       "      <td>2018-09-06</td>\n",
       "      <td>1987-10-08</td>\n",
       "      <td>Solteiro(a)</td>\n",
       "      <td>1.0</td>\n",
       "      <td>pf</td>\n",
       "      <td>brazilian_born</td>\n",
       "      <td>None</td>\n",
       "      <td>3069</td>\n",
       "      <td>2020-11-21</td>\n",
       "      <td>...</td>\n",
       "      <td>2018-10-31</td>\n",
       "      <td>750000.0</td>\n",
       "      <td>1</td>\n",
       "      <td>2018-11-01</td>\n",
       "      <td>2018-10-01</td>\n",
       "      <td>1</td>\n",
       "      <td>500000.0</td>\n",
       "      <td>1</td>\n",
       "      <td>None</td>\n",
       "      <td>Imobiliária</td>\n",
       "    </tr>\n",
       "  </tbody>\n",
       "</table>\n",
       "<p>5 rows × 48 columns</p>\n",
       "</div>"
      ],
      "text/plain": [
       "  id_ date_created       birth marital_status gender investor_type  \\\n",
       "0   3   2018-08-23  1982-08-11      Casado(a)    1.0            pf   \n",
       "1  16   2018-09-03  1973-05-04      Casado(a)    1.0            pf   \n",
       "2   6   2018-08-26  1985-07-04    Solteiro(a)    1.0            pf   \n",
       "3  11   2018-08-27  1982-07-01      Casado(a)    1.0            pf   \n",
       "4  34   2018-09-06  1987-10-08    Solteiro(a)    1.0            pf   \n",
       "\n",
       "      nationality channel id_investor date_created_investor  ...    validity  \\\n",
       "0  brazilian_born    None        3603            2021-01-08  ...  2018-10-31   \n",
       "1  brazilian_born    None          12            2018-09-03  ...  2018-10-31   \n",
       "2  brazilian_born    None        3591            2021-01-06  ...  2018-10-31   \n",
       "3  brazilian_born    None        2969            2020-11-12  ...  2018-10-31   \n",
       "4  brazilian_born    None        3069            2020-11-21  ...  2018-10-31   \n",
       "\n",
       "      value project_category      closed   date_open modality    target  \\\n",
       "0  750000.0                1  2018-11-01  2018-10-01        1  500000.0   \n",
       "1  750000.0                1  2018-11-01  2018-10-01        1  500000.0   \n",
       "2  750000.0                1  2018-11-01  2018-10-01        1  500000.0   \n",
       "3  750000.0                1  2018-11-01  2018-10-01        1  500000.0   \n",
       "4  750000.0                1  2018-11-01  2018-10-01        1  500000.0   \n",
       "\n",
       "  id_project_category date_created type_project  \n",
       "0                   1         None  Imobiliária  \n",
       "1                   1         None  Imobiliária  \n",
       "2                   1         None  Imobiliária  \n",
       "3                   1         None  Imobiliária  \n",
       "4                   1         None  Imobiliária  \n",
       "\n",
       "[5 rows x 48 columns]"
      ]
     },
     "execution_count": 65,
     "metadata": {},
     "output_type": "execute_result"
    }
   ],
   "source": [
    "df1 = df_raw.copy()\n",
    "df1.head(5)"
   ]
  },
  {
   "cell_type": "markdown",
   "id": "694bedd8",
   "metadata": {},
   "source": [
    "## 1.1 Renomeando Colunas"
   ]
  },
  {
   "cell_type": "code",
   "execution_count": 91,
   "id": "f7127a74",
   "metadata": {
    "ExecuteTime": {
     "end_time": "2022-07-07T01:51:54.366535Z",
     "start_time": "2022-07-07T01:51:54.350533Z"
    }
   },
   "outputs": [],
   "source": [
    "new_columns = ['id_investor', 'date_created_investor', 'id_birth_investor', 'marital_status_investor', 'igender_investor',\n",
    "       'investor_type_investor', 'nationality_investor', 'id_channel_investor', 'id_investor_work', 'date_created_investor_work',\n",
    "       'investor_investor_work', 'office_investor_work', 'profession_investor_work', 'id_investor_address', 'date_created_investor_address', 'country_investor_address',\n",
    "       'investor_investor_address', 'state_investor_address', 'id_investor_company', 'date_created_investor_company', 'investor_investor_company',\n",
    "       'constitution_date_investor_company', 'company_type_investor_company', 'id_investment', 'date_created_investment', 'anonymous_investment',\n",
    "       'investor_investment', 'project_investment', 'value_investment', 'id_country', 'date_created_country', 'iso2_country', 'iso3_country',\n",
    "       'country_name', 'phone_code_country', 'flag_country', 'id_project', 'date_created_project', 'validity_project', 'value_project',\n",
    "       'project_category_project', 'closed_project', 'date_open_project', 'modality_project', 'target_project', 'id_project_category',\n",
    "       'date_created_project_category', 'type_project_project_category']\n",
    "\n",
    "df1.columns = new_columns"
   ]
  },
  {
   "cell_type": "code",
   "execution_count": 92,
   "id": "5b8137b2",
   "metadata": {
    "ExecuteTime": {
     "end_time": "2022-07-07T01:51:54.995763Z",
     "start_time": "2022-07-07T01:51:54.955722Z"
    },
    "scrolled": true
   },
   "outputs": [
    {
     "data": {
      "text/html": [
       "<div>\n",
       "<style scoped>\n",
       "    .dataframe tbody tr th:only-of-type {\n",
       "        vertical-align: middle;\n",
       "    }\n",
       "\n",
       "    .dataframe tbody tr th {\n",
       "        vertical-align: top;\n",
       "    }\n",
       "\n",
       "    .dataframe thead th {\n",
       "        text-align: right;\n",
       "    }\n",
       "</style>\n",
       "<table border=\"1\" class=\"dataframe\">\n",
       "  <thead>\n",
       "    <tr style=\"text-align: right;\">\n",
       "      <th></th>\n",
       "      <th>id_investor</th>\n",
       "      <th>date_created_investor</th>\n",
       "      <th>id_birth_investor</th>\n",
       "      <th>marital_status_investor</th>\n",
       "      <th>igender_investor</th>\n",
       "      <th>investor_type_investor</th>\n",
       "      <th>nationality_investor</th>\n",
       "      <th>id_channel_investor</th>\n",
       "      <th>id_investor_work</th>\n",
       "      <th>date_created_investor_work</th>\n",
       "      <th>...</th>\n",
       "      <th>validity_project</th>\n",
       "      <th>value_project</th>\n",
       "      <th>project_category_project</th>\n",
       "      <th>closed_project</th>\n",
       "      <th>date_open_project</th>\n",
       "      <th>modality_project</th>\n",
       "      <th>target_project</th>\n",
       "      <th>id_project_category</th>\n",
       "      <th>date_created_project_category</th>\n",
       "      <th>type_project_project_category</th>\n",
       "    </tr>\n",
       "  </thead>\n",
       "  <tbody>\n",
       "    <tr>\n",
       "      <th>0</th>\n",
       "      <td>3</td>\n",
       "      <td>2018-08-23</td>\n",
       "      <td>1982-08-11</td>\n",
       "      <td>Casado(a)</td>\n",
       "      <td>1.0</td>\n",
       "      <td>pf</td>\n",
       "      <td>brazilian_born</td>\n",
       "      <td>None</td>\n",
       "      <td>3603</td>\n",
       "      <td>2021-01-08</td>\n",
       "      <td>...</td>\n",
       "      <td>2018-10-31</td>\n",
       "      <td>750000.0</td>\n",
       "      <td>1</td>\n",
       "      <td>2018-11-01</td>\n",
       "      <td>2018-10-01</td>\n",
       "      <td>1</td>\n",
       "      <td>500000.0</td>\n",
       "      <td>1</td>\n",
       "      <td>NaT</td>\n",
       "      <td>Imobiliária</td>\n",
       "    </tr>\n",
       "    <tr>\n",
       "      <th>1</th>\n",
       "      <td>16</td>\n",
       "      <td>2018-09-03</td>\n",
       "      <td>1973-05-04</td>\n",
       "      <td>Casado(a)</td>\n",
       "      <td>1.0</td>\n",
       "      <td>pf</td>\n",
       "      <td>brazilian_born</td>\n",
       "      <td>None</td>\n",
       "      <td>12</td>\n",
       "      <td>2018-09-03</td>\n",
       "      <td>...</td>\n",
       "      <td>2018-10-31</td>\n",
       "      <td>750000.0</td>\n",
       "      <td>1</td>\n",
       "      <td>2018-11-01</td>\n",
       "      <td>2018-10-01</td>\n",
       "      <td>1</td>\n",
       "      <td>500000.0</td>\n",
       "      <td>1</td>\n",
       "      <td>NaT</td>\n",
       "      <td>Imobiliária</td>\n",
       "    </tr>\n",
       "    <tr>\n",
       "      <th>2</th>\n",
       "      <td>6</td>\n",
       "      <td>2018-08-26</td>\n",
       "      <td>1985-07-04</td>\n",
       "      <td>Solteiro(a)</td>\n",
       "      <td>1.0</td>\n",
       "      <td>pf</td>\n",
       "      <td>brazilian_born</td>\n",
       "      <td>None</td>\n",
       "      <td>3591</td>\n",
       "      <td>2021-01-06</td>\n",
       "      <td>...</td>\n",
       "      <td>2018-10-31</td>\n",
       "      <td>750000.0</td>\n",
       "      <td>1</td>\n",
       "      <td>2018-11-01</td>\n",
       "      <td>2018-10-01</td>\n",
       "      <td>1</td>\n",
       "      <td>500000.0</td>\n",
       "      <td>1</td>\n",
       "      <td>NaT</td>\n",
       "      <td>Imobiliária</td>\n",
       "    </tr>\n",
       "    <tr>\n",
       "      <th>3</th>\n",
       "      <td>11</td>\n",
       "      <td>2018-08-27</td>\n",
       "      <td>1982-07-01</td>\n",
       "      <td>Casado(a)</td>\n",
       "      <td>1.0</td>\n",
       "      <td>pf</td>\n",
       "      <td>brazilian_born</td>\n",
       "      <td>None</td>\n",
       "      <td>2969</td>\n",
       "      <td>2020-11-12</td>\n",
       "      <td>...</td>\n",
       "      <td>2018-10-31</td>\n",
       "      <td>750000.0</td>\n",
       "      <td>1</td>\n",
       "      <td>2018-11-01</td>\n",
       "      <td>2018-10-01</td>\n",
       "      <td>1</td>\n",
       "      <td>500000.0</td>\n",
       "      <td>1</td>\n",
       "      <td>NaT</td>\n",
       "      <td>Imobiliária</td>\n",
       "    </tr>\n",
       "    <tr>\n",
       "      <th>4</th>\n",
       "      <td>34</td>\n",
       "      <td>2018-09-06</td>\n",
       "      <td>1987-10-08</td>\n",
       "      <td>Solteiro(a)</td>\n",
       "      <td>1.0</td>\n",
       "      <td>pf</td>\n",
       "      <td>brazilian_born</td>\n",
       "      <td>None</td>\n",
       "      <td>3069</td>\n",
       "      <td>2020-11-21</td>\n",
       "      <td>...</td>\n",
       "      <td>2018-10-31</td>\n",
       "      <td>750000.0</td>\n",
       "      <td>1</td>\n",
       "      <td>2018-11-01</td>\n",
       "      <td>2018-10-01</td>\n",
       "      <td>1</td>\n",
       "      <td>500000.0</td>\n",
       "      <td>1</td>\n",
       "      <td>NaT</td>\n",
       "      <td>Imobiliária</td>\n",
       "    </tr>\n",
       "  </tbody>\n",
       "</table>\n",
       "<p>5 rows × 48 columns</p>\n",
       "</div>"
      ],
      "text/plain": [
       "  id_investor date_created_investor id_birth_investor marital_status_investor  \\\n",
       "0           3            2018-08-23        1982-08-11               Casado(a)   \n",
       "1          16            2018-09-03        1973-05-04               Casado(a)   \n",
       "2           6            2018-08-26        1985-07-04             Solteiro(a)   \n",
       "3          11            2018-08-27        1982-07-01               Casado(a)   \n",
       "4          34            2018-09-06        1987-10-08             Solteiro(a)   \n",
       "\n",
       "  igender_investor investor_type_investor nationality_investor  \\\n",
       "0              1.0                     pf       brazilian_born   \n",
       "1              1.0                     pf       brazilian_born   \n",
       "2              1.0                     pf       brazilian_born   \n",
       "3              1.0                     pf       brazilian_born   \n",
       "4              1.0                     pf       brazilian_born   \n",
       "\n",
       "  id_channel_investor id_investor_work date_created_investor_work  ...  \\\n",
       "0                None             3603                 2021-01-08  ...   \n",
       "1                None               12                 2018-09-03  ...   \n",
       "2                None             3591                 2021-01-06  ...   \n",
       "3                None             2969                 2020-11-12  ...   \n",
       "4                None             3069                 2020-11-21  ...   \n",
       "\n",
       "  validity_project value_project project_category_project closed_project  \\\n",
       "0       2018-10-31      750000.0                        1     2018-11-01   \n",
       "1       2018-10-31      750000.0                        1     2018-11-01   \n",
       "2       2018-10-31      750000.0                        1     2018-11-01   \n",
       "3       2018-10-31      750000.0                        1     2018-11-01   \n",
       "4       2018-10-31      750000.0                        1     2018-11-01   \n",
       "\n",
       "  date_open_project modality_project target_project id_project_category  \\\n",
       "0        2018-10-01                1       500000.0                   1   \n",
       "1        2018-10-01                1       500000.0                   1   \n",
       "2        2018-10-01                1       500000.0                   1   \n",
       "3        2018-10-01                1       500000.0                   1   \n",
       "4        2018-10-01                1       500000.0                   1   \n",
       "\n",
       "  date_created_project_category type_project_project_category  \n",
       "0                           NaT                   Imobiliária  \n",
       "1                           NaT                   Imobiliária  \n",
       "2                           NaT                   Imobiliária  \n",
       "3                           NaT                   Imobiliária  \n",
       "4                           NaT                   Imobiliária  \n",
       "\n",
       "[5 rows x 48 columns]"
      ]
     },
     "execution_count": 92,
     "metadata": {},
     "output_type": "execute_result"
    }
   ],
   "source": [
    "df1.head()"
   ]
  },
  {
   "cell_type": "markdown",
   "id": "73daf4e5",
   "metadata": {
    "hide_input": false
   },
   "source": [
    "## 1.2 Dimensão dos Dados"
   ]
  },
  {
   "cell_type": "code",
   "execution_count": 67,
   "id": "8d54d469",
   "metadata": {
    "ExecuteTime": {
     "end_time": "2022-07-07T01:42:44.128356Z",
     "start_time": "2022-07-07T01:42:44.104354Z"
    }
   },
   "outputs": [
    {
     "name": "stdout",
     "output_type": "stream",
     "text": [
      "Número de Linhas: 28093\n",
      "Número de Colunas: 48\n"
     ]
    }
   ],
   "source": [
    "print('Número de Linhas: {}'.format(df1.shape[0]))\n",
    "print('Número de Colunas: {}'.format(df1.shape[1]))"
   ]
  },
  {
   "cell_type": "markdown",
   "id": "3dce7b5f",
   "metadata": {},
   "source": [
    "## 1.2 Check Types"
   ]
  },
  {
   "cell_type": "code",
   "execution_count": 68,
   "id": "0a20f8f3",
   "metadata": {
    "ExecuteTime": {
     "end_time": "2022-07-07T01:42:46.958651Z",
     "start_time": "2022-07-07T01:42:46.934649Z"
    }
   },
   "outputs": [
    {
     "data": {
      "text/plain": [
       "id_                               object\n",
       "date_created                      object\n",
       "birth                             object\n",
       "marital_status                    object\n",
       "gender                            object\n",
       "investor_type                     object\n",
       "nationality                       object\n",
       "channel                           object\n",
       "id_investor                       object\n",
       "date_created_investor             object\n",
       "investor                          object\n",
       "office                            object\n",
       "profession                        object\n",
       "id_investor_address               object\n",
       "date_created_investor_address     object\n",
       "country                           object\n",
       "investor                          object\n",
       "state                             object\n",
       "id_investor_company               object\n",
       "date_created_investor_company     object\n",
       "investor                          object\n",
       "constitution_date                 object\n",
       "company_type                      object\n",
       "id_investment                     object\n",
       "date_created_investment           object\n",
       "anonymous                        float64\n",
       "investor                          object\n",
       "project                           object\n",
       "value                            float64\n",
       "id                                object\n",
       "date_created_country              object\n",
       "iso2                              object\n",
       "iso3                              object\n",
       "country_name                      object\n",
       "phone_code                        object\n",
       "flag                              object\n",
       "id_project                        object\n",
       "date_created                      object\n",
       "validity                          object\n",
       "value                            float64\n",
       "project_category                  object\n",
       "closed                            object\n",
       "date_open                         object\n",
       "modality                          object\n",
       "target                           float64\n",
       "id_project_category               object\n",
       "date_created                      object\n",
       "type_project                      object\n",
       "dtype: object"
      ]
     },
     "execution_count": 68,
     "metadata": {},
     "output_type": "execute_result"
    }
   ],
   "source": [
    "df1.dtypes"
   ]
  },
  {
   "cell_type": "markdown",
   "id": "0b28d65e",
   "metadata": {},
   "source": [
    "##  1.3 Check Valores Nulos"
   ]
  },
  {
   "cell_type": "code",
   "execution_count": 69,
   "id": "61d1bcc1",
   "metadata": {
    "ExecuteTime": {
     "end_time": "2022-07-07T01:42:51.148255Z",
     "start_time": "2022-07-07T01:42:51.060246Z"
    }
   },
   "outputs": [
    {
     "data": {
      "text/plain": [
       "id_                                  0\n",
       "date_created                         0\n",
       "birth                            10216\n",
       "marital_status                   17027\n",
       "gender                           10432\n",
       "investor_type                        0\n",
       "nationality                          0\n",
       "channel                          21050\n",
       "id_investor                      17153\n",
       "date_created_investor            17153\n",
       "investor                         17153\n",
       "office                           17248\n",
       "profession                       17163\n",
       "id_investor_address              10271\n",
       "date_created_investor_address    10271\n",
       "country                          10271\n",
       "investor                         10271\n",
       "state                            10273\n",
       "id_investor_company              27669\n",
       "date_created_investor_company    27669\n",
       "investor                         27669\n",
       "constitution_date                28093\n",
       "company_type                     27669\n",
       "id_investment                    18970\n",
       "date_created_investment          18970\n",
       "anonymous                        18970\n",
       "investor                         18970\n",
       "project                          18970\n",
       "value                            18970\n",
       "id                               10271\n",
       "date_created_country             28093\n",
       "iso2                             10271\n",
       "iso3                             10271\n",
       "country_name                     10271\n",
       "phone_code                       10271\n",
       "flag                             10271\n",
       "id_project                       18970\n",
       "date_created                     18970\n",
       "validity                         18970\n",
       "value                            18970\n",
       "project_category                 18970\n",
       "closed                           18970\n",
       "date_open                        18970\n",
       "modality                         18970\n",
       "target                           18970\n",
       "id_project_category              18970\n",
       "date_created                     28093\n",
       "type_project                     18970\n",
       "dtype: int64"
      ]
     },
     "execution_count": 69,
     "metadata": {},
     "output_type": "execute_result"
    }
   ],
   "source": [
    "df1.isna().sum()"
   ]
  },
  {
   "cell_type": "markdown",
   "id": "f0cde4e7",
   "metadata": {},
   "source": [
    "## 1.5 Preechimento dos Valores Nulos"
   ]
  },
  {
   "cell_type": "code",
   "execution_count": null,
   "id": "701483f8",
   "metadata": {},
   "outputs": [],
   "source": []
  },
  {
   "cell_type": "markdown",
   "id": "50fe2269",
   "metadata": {},
   "source": [
    "## 1.6 Alteração dos Tipos Dos Dados"
   ]
  },
  {
   "cell_type": "code",
   "execution_count": 73,
   "id": "2432d51e",
   "metadata": {
    "ExecuteTime": {
     "end_time": "2022-07-07T01:43:23.714868Z",
     "start_time": "2022-07-07T01:43:23.682603Z"
    }
   },
   "outputs": [],
   "source": [
    "df1['date_created'] = df1['date_created'].astype('datetime64[ns]') \n",
    "df1['date_created_investor'] = df1['date_created_investor'].astype('datetime64[ns]')\n",
    "df1['date_created_investor_address'] = df1['date_created_investor_address'].astype('datetime64[ns]')\n",
    "df1['date_created_investor_company'] = df1['date_created_investor_company'].astype('datetime64[ns]')\n",
    "df1['date_created_investment'] = df1['date_created_investment'].astype('datetime64[ns]')\n",
    "df1['date_created_country'] = df1['date_created_country'].astype('datetime64[ns]')\n",
    "df1['date_created_project'] = df1['date_created_project'].astype('datetime64[ns]')\n",
    "df1['date_created_project'] = df1['date_created_project'].astype('datetime64[ns]')"
   ]
  },
  {
   "cell_type": "markdown",
   "id": "19dc73cd",
   "metadata": {},
   "source": [
    "## 1.7 Estatistica Descritiva"
   ]
  },
  {
   "cell_type": "code",
   "execution_count": 74,
   "id": "708c277b",
   "metadata": {
    "ExecuteTime": {
     "end_time": "2022-07-07T01:43:42.993854Z",
     "start_time": "2022-07-07T01:43:42.953766Z"
    }
   },
   "outputs": [],
   "source": [
    "num_attributes = df1.select_dtypes( include=['int64', 'float64'] )\n",
    "cat_attributes = df1.select_dtypes( exclude=['int64', 'float64', 'datetime64[ns]'] )"
   ]
  },
  {
   "cell_type": "markdown",
   "id": "3c4e29ed",
   "metadata": {},
   "source": [
    "## 1.8 Atributos Numéricos"
   ]
  },
  {
   "cell_type": "code",
   "execution_count": 89,
   "id": "1424ae90",
   "metadata": {
    "ExecuteTime": {
     "end_time": "2022-07-07T01:46:45.895491Z",
     "start_time": "2022-07-07T01:46:45.824525Z"
    }
   },
   "outputs": [
    {
     "data": {
      "text/html": [
       "<div>\n",
       "<style scoped>\n",
       "    .dataframe tbody tr th:only-of-type {\n",
       "        vertical-align: middle;\n",
       "    }\n",
       "\n",
       "    .dataframe tbody tr th {\n",
       "        vertical-align: top;\n",
       "    }\n",
       "\n",
       "    .dataframe thead th {\n",
       "        text-align: right;\n",
       "    }\n",
       "</style>\n",
       "<table border=\"1\" class=\"dataframe\">\n",
       "  <thead>\n",
       "    <tr style=\"text-align: right;\">\n",
       "      <th></th>\n",
       "      <th>attributes</th>\n",
       "      <th>min</th>\n",
       "      <th>max</th>\n",
       "      <th>range</th>\n",
       "      <th>mean</th>\n",
       "      <th>median</th>\n",
       "      <th>std</th>\n",
       "    </tr>\n",
       "  </thead>\n",
       "  <tbody>\n",
       "    <tr>\n",
       "      <th>0</th>\n",
       "      <td>anonymous</td>\n",
       "      <td>0.0</td>\n",
       "      <td>1.0</td>\n",
       "      <td>1.0</td>\n",
       "      <td>3.563521e-01</td>\n",
       "      <td>NaN</td>\n",
       "      <td>4.789209e-01</td>\n",
       "    </tr>\n",
       "    <tr>\n",
       "      <th>1</th>\n",
       "      <td>value</td>\n",
       "      <td>500.0</td>\n",
       "      <td>600000.0</td>\n",
       "      <td>599500.0</td>\n",
       "      <td>1.209575e+04</td>\n",
       "      <td>NaN</td>\n",
       "      <td>2.098462e+04</td>\n",
       "    </tr>\n",
       "    <tr>\n",
       "      <th>2</th>\n",
       "      <td>value</td>\n",
       "      <td>340000.0</td>\n",
       "      <td>5000000.0</td>\n",
       "      <td>4660000.0</td>\n",
       "      <td>2.607509e+06</td>\n",
       "      <td>NaN</td>\n",
       "      <td>1.345128e+06</td>\n",
       "    </tr>\n",
       "    <tr>\n",
       "      <th>3</th>\n",
       "      <td>target</td>\n",
       "      <td>340000.0</td>\n",
       "      <td>4000000.0</td>\n",
       "      <td>3660000.0</td>\n",
       "      <td>1.818502e+06</td>\n",
       "      <td>NaN</td>\n",
       "      <td>9.654244e+05</td>\n",
       "    </tr>\n",
       "  </tbody>\n",
       "</table>\n",
       "</div>"
      ],
      "text/plain": [
       "  attributes       min        max      range          mean  median  \\\n",
       "0  anonymous       0.0        1.0        1.0  3.563521e-01     NaN   \n",
       "1      value     500.0   600000.0   599500.0  1.209575e+04     NaN   \n",
       "2      value  340000.0  5000000.0  4660000.0  2.607509e+06     NaN   \n",
       "3     target  340000.0  4000000.0  3660000.0  1.818502e+06     NaN   \n",
       "\n",
       "            std  \n",
       "0  4.789209e-01  \n",
       "1  2.098462e+04  \n",
       "2  1.345128e+06  \n",
       "3  9.654244e+05  "
      ]
     },
     "execution_count": 89,
     "metadata": {},
     "output_type": "execute_result"
    }
   ],
   "source": [
    "# Central Tendency - mean, meadina\n",
    "ct1 = pd.DataFrame( num_attributes.apply( np.mean ) ).T\n",
    "ct2 = pd.DataFrame( num_attributes.apply( np.median ) ).T\n",
    "# dispersion - std, min, max, range\n",
    "d1 = pd.DataFrame( num_attributes.apply( np.std ) ).T\n",
    "d2 = pd.DataFrame( num_attributes.apply( min ) ).T\n",
    "d3 = pd.DataFrame( num_attributes.apply( max ) ).T\n",
    "d4 = pd.DataFrame( num_attributes.apply( lambda x: x.max() - x.min() ) ).T\n",
    "\n",
    "# concatenar\n",
    "m = pd.concat( [d2, d3, d4, ct1, ct2, d1] ).T.reset_index()\n",
    "m.columns = ['attributes', 'min', 'max', 'range', 'mean', 'median', 'std']\n",
    "m"
   ]
  },
  {
   "cell_type": "markdown",
   "id": "434b53f4",
   "metadata": {},
   "source": [
    "## 1.8 Atributos Categóricos"
   ]
  },
  {
   "cell_type": "code",
   "execution_count": 90,
   "id": "528e9719",
   "metadata": {
    "ExecuteTime": {
     "end_time": "2022-07-07T01:47:05.158069Z",
     "start_time": "2022-07-07T01:47:05.022286Z"
    }
   },
   "outputs": [
    {
     "data": {
      "text/plain": [
       "id_                    22459\n",
       "birth                   7881\n",
       "marital_status             6\n",
       "gender                     4\n",
       "investor_type              2\n",
       "nationality                3\n",
       "channel                   12\n",
       "id_investor             5330\n",
       "investor                5330\n",
       "office                  2316\n",
       "profession              1602\n",
       "id_investor_address    12189\n",
       "country                   25\n",
       "investor               12189\n",
       "state                     63\n",
       "id_investor_company      273\n",
       "investor                 273\n",
       "constitution_date          1\n",
       "company_type               8\n",
       "id_investment           9124\n",
       "investor                3490\n",
       "project                   61\n",
       "id_country                25\n",
       "iso2                      25\n",
       "iso3                      25\n",
       "country_name              25\n",
       "phone_code                23\n",
       "flag                      25\n",
       "id_project                61\n",
       "validity                  56\n",
       "project_category           6\n",
       "closed                    60\n",
       "date_open                 58\n",
       "modality                   3\n",
       "id_project_category        6\n",
       "type_project               6\n",
       "dtype: int64"
      ]
     },
     "execution_count": 90,
     "metadata": {},
     "output_type": "execute_result"
    }
   ],
   "source": [
    "cat_attributes.apply( lambda x: x.unique().shape[0] )"
   ]
  },
  {
   "cell_type": "code",
   "execution_count": null,
   "id": "2c695a88",
   "metadata": {},
   "outputs": [],
   "source": []
  }
 ],
 "metadata": {
  "kernelspec": {
   "display_name": "Python 3 (ipykernel)",
   "language": "python",
   "name": "python3"
  },
  "language_info": {
   "codemirror_mode": {
    "name": "ipython",
    "version": 3
   },
   "file_extension": ".py",
   "mimetype": "text/x-python",
   "name": "python",
   "nbconvert_exporter": "python",
   "pygments_lexer": "ipython3",
   "version": "3.9.7"
  }
 },
 "nbformat": 4,
 "nbformat_minor": 5
}
